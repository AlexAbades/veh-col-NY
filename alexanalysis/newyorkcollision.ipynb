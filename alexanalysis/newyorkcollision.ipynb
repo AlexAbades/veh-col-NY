{
 "cells": [
  {
   "cell_type": "code",
   "execution_count": 1,
   "metadata": {},
   "outputs": [],
   "source": [
    "import pandas as pd \n",
    "import numpy as np "
   ]
  },
  {
   "cell_type": "code",
   "execution_count": 2,
   "metadata": {},
   "outputs": [
    {
     "name": "stderr",
     "output_type": "stream",
     "text": [
      "C:\\Users\\s212784\\AppData\\Roaming\\Python\\Python37\\site-packages\\IPython\\core\\interactiveshell.py:3258: DtypeWarning: Columns (2) have mixed types. Specify dtype option on import or set low_memory=False.\n",
      "  interactivity=interactivity, compiler=compiler, result=result)\n"
     ]
    }
   ],
   "source": [
    "df = pd.read_csv(\"data.csv\")"
   ]
  },
  {
   "cell_type": "code",
   "execution_count": 4,
   "metadata": {},
   "outputs": [
    {
     "data": {
      "text/plain": [
       "Index(['Date_Time', 'BOROUGH', 'ZIP CODE', 'LATITUDE', 'LONGITUDE',\n",
       "       'NUMBER OF PERSONS INJURED', 'NUMBER OF PERSONS KILLED',\n",
       "       'NUMBER OF PEDESTRIANS INJURED', 'NUMBER OF PEDESTRIANS KILLED',\n",
       "       'NUMBER OF CYCLIST INJURED', 'NUMBER OF CYCLIST KILLED',\n",
       "       'NUMBER OF MOTORIST INJURED', 'NUMBER OF MOTORIST KILLED',\n",
       "       'CONTRIBUTING FACTOR VEHICLE 1', 'CONTRIBUTING FACTOR VEHICLE 2',\n",
       "       'CONTRIBUTING FACTOR VEHICLE 3', 'CONTRIBUTING FACTOR VEHICLE 4',\n",
       "       'CONTRIBUTING FACTOR VEHICLE 5', 'COLLISION_ID', 'VEHICLE TYPE CODE 1',\n",
       "       'VEHICLE TYPE CODE 2', 'VEHICLE TYPE CODE 3', 'VEHICLE TYPE CODE 4',\n",
       "       'VEHICLE TYPE CODE 5', 'Year', 'z_LATITUDE', 'z_LONGITUDE'],\n",
       "      dtype='object')"
      ]
     },
     "execution_count": 4,
     "metadata": {},
     "output_type": "execute_result"
    }
   ],
   "source": [
    "df.columns"
   ]
  },
  {
   "cell_type": "code",
   "execution_count": 6,
   "metadata": {},
   "outputs": [],
   "source": [
    "data = df[['Date_Time', 'BOROUGH', 'Year', 'COLLISION_ID']]"
   ]
  },
  {
   "cell_type": "code",
   "execution_count": 7,
   "metadata": {},
   "outputs": [
    {
     "data": {
      "text/html": [
       "<div>\n",
       "<style scoped>\n",
       "    .dataframe tbody tr th:only-of-type {\n",
       "        vertical-align: middle;\n",
       "    }\n",
       "\n",
       "    .dataframe tbody tr th {\n",
       "        vertical-align: top;\n",
       "    }\n",
       "\n",
       "    .dataframe thead th {\n",
       "        text-align: right;\n",
       "    }\n",
       "</style>\n",
       "<table border=\"1\" class=\"dataframe\">\n",
       "  <thead>\n",
       "    <tr style=\"text-align: right;\">\n",
       "      <th></th>\n",
       "      <th>Date_Time</th>\n",
       "      <th>BOROUGH</th>\n",
       "      <th>Year</th>\n",
       "      <th>COLLISION_ID</th>\n",
       "    </tr>\n",
       "  </thead>\n",
       "  <tbody>\n",
       "    <tr>\n",
       "      <td>0</td>\n",
       "      <td>2021-09-11 09:35:00</td>\n",
       "      <td>BROOKLYN</td>\n",
       "      <td>2021</td>\n",
       "      <td>4456314</td>\n",
       "    </tr>\n",
       "    <tr>\n",
       "      <td>1</td>\n",
       "      <td>2021-12-14 08:17:00</td>\n",
       "      <td>BRONX</td>\n",
       "      <td>2021</td>\n",
       "      <td>4486660</td>\n",
       "    </tr>\n",
       "    <tr>\n",
       "      <td>2</td>\n",
       "      <td>2021-12-14 21:10:00</td>\n",
       "      <td>BROOKLYN</td>\n",
       "      <td>2021</td>\n",
       "      <td>4487074</td>\n",
       "    </tr>\n",
       "    <tr>\n",
       "      <td>3</td>\n",
       "      <td>2021-12-14 14:58:00</td>\n",
       "      <td>MANHATTAN</td>\n",
       "      <td>2021</td>\n",
       "      <td>4486519</td>\n",
       "    </tr>\n",
       "    <tr>\n",
       "      <td>4</td>\n",
       "      <td>2021-12-14 16:50:00</td>\n",
       "      <td>QUEENS</td>\n",
       "      <td>2021</td>\n",
       "      <td>4487127</td>\n",
       "    </tr>\n",
       "  </tbody>\n",
       "</table>\n",
       "</div>"
      ],
      "text/plain": [
       "             Date_Time    BOROUGH  Year  COLLISION_ID\n",
       "0  2021-09-11 09:35:00   BROOKLYN  2021       4456314\n",
       "1  2021-12-14 08:17:00      BRONX  2021       4486660\n",
       "2  2021-12-14 21:10:00   BROOKLYN  2021       4487074\n",
       "3  2021-12-14 14:58:00  MANHATTAN  2021       4486519\n",
       "4  2021-12-14 16:50:00     QUEENS  2021       4487127"
      ]
     },
     "execution_count": 7,
     "metadata": {},
     "output_type": "execute_result"
    }
   ],
   "source": [
    "data.head()"
   ]
  },
  {
   "cell_type": "code",
   "execution_count": 8,
   "metadata": {},
   "outputs": [],
   "source": [
    "data_Brok = data.loc[data.BOROUGH == \"BROOKLYN\"]"
   ]
  },
  {
   "cell_type": "code",
   "execution_count": 14,
   "metadata": {},
   "outputs": [
    {
     "data": {
      "text/plain": [
       "pandas.core.series.Series"
      ]
     },
     "execution_count": 14,
     "metadata": {},
     "output_type": "execute_result"
    }
   ],
   "source": [
    "type(data_Brok.Date_Time)"
   ]
  },
  {
   "cell_type": "code",
   "execution_count": 15,
   "metadata": {},
   "outputs": [
    {
     "name": "stderr",
     "output_type": "stream",
     "text": [
      "C:\\Users\\s212784\\AppData\\Roaming\\Python\\Python37\\site-packages\\ipykernel_launcher.py:1: SettingWithCopyWarning: \n",
      "A value is trying to be set on a copy of a slice from a DataFrame.\n",
      "Try using .loc[row_indexer,col_indexer] = value instead\n",
      "\n",
      "See the caveats in the documentation: http://pandas.pydata.org/pandas-docs/stable/user_guide/indexing.html#returning-a-view-versus-a-copy\n",
      "  \"\"\"Entry point for launching an IPython kernel.\n"
     ]
    }
   ],
   "source": [
    "data_Brok['Date_Time'] = pd.to_datetime(data_Brok['Date_Time'])"
   ]
  },
  {
   "cell_type": "code",
   "execution_count": 31,
   "metadata": {},
   "outputs": [
    {
     "data": {
      "text/html": [
       "<div>\n",
       "<style scoped>\n",
       "    .dataframe tbody tr th:only-of-type {\n",
       "        vertical-align: middle;\n",
       "    }\n",
       "\n",
       "    .dataframe tbody tr th {\n",
       "        vertical-align: top;\n",
       "    }\n",
       "\n",
       "    .dataframe thead th {\n",
       "        text-align: right;\n",
       "    }\n",
       "</style>\n",
       "<table border=\"1\" class=\"dataframe\">\n",
       "  <thead>\n",
       "    <tr style=\"text-align: right;\">\n",
       "      <th></th>\n",
       "      <th>Date_Time</th>\n",
       "      <th>BOROUGH</th>\n",
       "      <th>Year</th>\n",
       "      <th>COLLISION_ID</th>\n",
       "    </tr>\n",
       "  </thead>\n",
       "  <tbody>\n",
       "    <tr>\n",
       "      <td>0</td>\n",
       "      <td>2021-09-11 09:35:00</td>\n",
       "      <td>BROOKLYN</td>\n",
       "      <td>2021</td>\n",
       "      <td>4456314</td>\n",
       "    </tr>\n",
       "    <tr>\n",
       "      <td>2</td>\n",
       "      <td>2021-12-14 21:10:00</td>\n",
       "      <td>BROOKLYN</td>\n",
       "      <td>2021</td>\n",
       "      <td>4487074</td>\n",
       "    </tr>\n",
       "    <tr>\n",
       "      <td>6</td>\n",
       "      <td>2021-12-14 17:58:00</td>\n",
       "      <td>BROOKLYN</td>\n",
       "      <td>2021</td>\n",
       "      <td>4486604</td>\n",
       "    </tr>\n",
       "    <tr>\n",
       "      <td>7</td>\n",
       "      <td>2021-12-14 20:03:00</td>\n",
       "      <td>BROOKLYN</td>\n",
       "      <td>2021</td>\n",
       "      <td>4486991</td>\n",
       "    </tr>\n",
       "    <tr>\n",
       "      <td>12</td>\n",
       "      <td>2021-12-14 17:31:00</td>\n",
       "      <td>BROOKLYN</td>\n",
       "      <td>2021</td>\n",
       "      <td>4486516</td>\n",
       "    </tr>\n",
       "  </tbody>\n",
       "</table>\n",
       "</div>"
      ],
      "text/plain": [
       "             Date_Time   BOROUGH  Year  COLLISION_ID\n",
       "0  2021-09-11 09:35:00  BROOKLYN  2021       4456314\n",
       "2  2021-12-14 21:10:00  BROOKLYN  2021       4487074\n",
       "6  2021-12-14 17:58:00  BROOKLYN  2021       4486604\n",
       "7  2021-12-14 20:03:00  BROOKLYN  2021       4486991\n",
       "12 2021-12-14 17:31:00  BROOKLYN  2021       4486516"
      ]
     },
     "execution_count": 31,
     "metadata": {},
     "output_type": "execute_result"
    }
   ],
   "source": [
    "data_Brok.head()\n"
   ]
  },
  {
   "cell_type": "code",
   "execution_count": 33,
   "metadata": {},
   "outputs": [
    {
     "name": "stderr",
     "output_type": "stream",
     "text": [
      "C:\\Users\\s212784\\AppData\\Roaming\\Python\\Python37\\site-packages\\ipykernel_launcher.py:1: SettingWithCopyWarning: \n",
      "A value is trying to be set on a copy of a slice from a DataFrame.\n",
      "Try using .loc[row_indexer,col_indexer] = value instead\n",
      "\n",
      "See the caveats in the documentation: http://pandas.pydata.org/pandas-docs/stable/user_guide/indexing.html#returning-a-view-versus-a-copy\n",
      "  \"\"\"Entry point for launching an IPython kernel.\n"
     ]
    }
   ],
   "source": [
    "data_Brok[\"weekday\"] = data_Brok.Date_Time.dt.dayofweek < 5"
   ]
  },
  {
   "cell_type": "code",
   "execution_count": 36,
   "metadata": {},
   "outputs": [
    {
     "name": "stderr",
     "output_type": "stream",
     "text": [
      "C:\\Users\\s212784\\AppData\\Roaming\\Python\\Python37\\site-packages\\ipykernel_launcher.py:1: SettingWithCopyWarning: \n",
      "A value is trying to be set on a copy of a slice from a DataFrame.\n",
      "Try using .loc[row_indexer,col_indexer] = value instead\n",
      "\n",
      "See the caveats in the documentation: http://pandas.pydata.org/pandas-docs/stable/user_guide/indexing.html#returning-a-view-versus-a-copy\n",
      "  \"\"\"Entry point for launching an IPython kernel.\n"
     ]
    }
   ],
   "source": [
    "data_Brok[\"hour\"] = data_Brok.Date_Time.dt.hour"
   ]
  },
  {
   "cell_type": "code",
   "execution_count": 37,
   "metadata": {},
   "outputs": [
    {
     "data": {
      "text/html": [
       "<div>\n",
       "<style scoped>\n",
       "    .dataframe tbody tr th:only-of-type {\n",
       "        vertical-align: middle;\n",
       "    }\n",
       "\n",
       "    .dataframe tbody tr th {\n",
       "        vertical-align: top;\n",
       "    }\n",
       "\n",
       "    .dataframe thead th {\n",
       "        text-align: right;\n",
       "    }\n",
       "</style>\n",
       "<table border=\"1\" class=\"dataframe\">\n",
       "  <thead>\n",
       "    <tr style=\"text-align: right;\">\n",
       "      <th></th>\n",
       "      <th>Date_Time</th>\n",
       "      <th>BOROUGH</th>\n",
       "      <th>Year</th>\n",
       "      <th>COLLISION_ID</th>\n",
       "      <th>weekday</th>\n",
       "      <th>hour</th>\n",
       "    </tr>\n",
       "  </thead>\n",
       "  <tbody>\n",
       "    <tr>\n",
       "      <td>0</td>\n",
       "      <td>2021-09-11 09:35:00</td>\n",
       "      <td>BROOKLYN</td>\n",
       "      <td>2021</td>\n",
       "      <td>4456314</td>\n",
       "      <td>False</td>\n",
       "      <td>9</td>\n",
       "    </tr>\n",
       "    <tr>\n",
       "      <td>2</td>\n",
       "      <td>2021-12-14 21:10:00</td>\n",
       "      <td>BROOKLYN</td>\n",
       "      <td>2021</td>\n",
       "      <td>4487074</td>\n",
       "      <td>True</td>\n",
       "      <td>21</td>\n",
       "    </tr>\n",
       "    <tr>\n",
       "      <td>6</td>\n",
       "      <td>2021-12-14 17:58:00</td>\n",
       "      <td>BROOKLYN</td>\n",
       "      <td>2021</td>\n",
       "      <td>4486604</td>\n",
       "      <td>True</td>\n",
       "      <td>17</td>\n",
       "    </tr>\n",
       "    <tr>\n",
       "      <td>7</td>\n",
       "      <td>2021-12-14 20:03:00</td>\n",
       "      <td>BROOKLYN</td>\n",
       "      <td>2021</td>\n",
       "      <td>4486991</td>\n",
       "      <td>True</td>\n",
       "      <td>20</td>\n",
       "    </tr>\n",
       "    <tr>\n",
       "      <td>12</td>\n",
       "      <td>2021-12-14 17:31:00</td>\n",
       "      <td>BROOKLYN</td>\n",
       "      <td>2021</td>\n",
       "      <td>4486516</td>\n",
       "      <td>True</td>\n",
       "      <td>17</td>\n",
       "    </tr>\n",
       "  </tbody>\n",
       "</table>\n",
       "</div>"
      ],
      "text/plain": [
       "             Date_Time   BOROUGH  Year  COLLISION_ID  weekday  hour\n",
       "0  2021-09-11 09:35:00  BROOKLYN  2021       4456314    False     9\n",
       "2  2021-12-14 21:10:00  BROOKLYN  2021       4487074     True    21\n",
       "6  2021-12-14 17:58:00  BROOKLYN  2021       4486604     True    17\n",
       "7  2021-12-14 20:03:00  BROOKLYN  2021       4486991     True    20\n",
       "12 2021-12-14 17:31:00  BROOKLYN  2021       4486516     True    17"
      ]
     },
     "execution_count": 37,
     "metadata": {},
     "output_type": "execute_result"
    }
   ],
   "source": [
    "data_Brok.head()"
   ]
  },
  {
   "cell_type": "code",
   "execution_count": 38,
   "metadata": {},
   "outputs": [
    {
     "name": "stderr",
     "output_type": "stream",
     "text": [
      "C:\\Users\\s212784\\AppData\\Roaming\\Python\\Python37\\site-packages\\ipykernel_launcher.py:1: SettingWithCopyWarning: \n",
      "A value is trying to be set on a copy of a slice from a DataFrame.\n",
      "Try using .loc[row_indexer,col_indexer] = value instead\n",
      "\n",
      "See the caveats in the documentation: http://pandas.pydata.org/pandas-docs/stable/user_guide/indexing.html#returning-a-view-versus-a-copy\n",
      "  \"\"\"Entry point for launching an IPython kernel.\n"
     ]
    }
   ],
   "source": [
    "data_Brok['business_day'] = data_Brok['weekday'].replace({True: 'Business Days', False: 'Weekends'})"
   ]
  },
  {
   "cell_type": "code",
   "execution_count": 39,
   "metadata": {},
   "outputs": [
    {
     "data": {
      "text/html": [
       "<div>\n",
       "<style scoped>\n",
       "    .dataframe tbody tr th:only-of-type {\n",
       "        vertical-align: middle;\n",
       "    }\n",
       "\n",
       "    .dataframe tbody tr th {\n",
       "        vertical-align: top;\n",
       "    }\n",
       "\n",
       "    .dataframe thead th {\n",
       "        text-align: right;\n",
       "    }\n",
       "</style>\n",
       "<table border=\"1\" class=\"dataframe\">\n",
       "  <thead>\n",
       "    <tr style=\"text-align: right;\">\n",
       "      <th></th>\n",
       "      <th>Date_Time</th>\n",
       "      <th>BOROUGH</th>\n",
       "      <th>Year</th>\n",
       "      <th>COLLISION_ID</th>\n",
       "      <th>weekday</th>\n",
       "      <th>hour</th>\n",
       "      <th>business_day</th>\n",
       "    </tr>\n",
       "  </thead>\n",
       "  <tbody>\n",
       "    <tr>\n",
       "      <td>0</td>\n",
       "      <td>2021-09-11 09:35:00</td>\n",
       "      <td>BROOKLYN</td>\n",
       "      <td>2021</td>\n",
       "      <td>4456314</td>\n",
       "      <td>False</td>\n",
       "      <td>9</td>\n",
       "      <td>Weekends</td>\n",
       "    </tr>\n",
       "    <tr>\n",
       "      <td>2</td>\n",
       "      <td>2021-12-14 21:10:00</td>\n",
       "      <td>BROOKLYN</td>\n",
       "      <td>2021</td>\n",
       "      <td>4487074</td>\n",
       "      <td>True</td>\n",
       "      <td>21</td>\n",
       "      <td>Business Days</td>\n",
       "    </tr>\n",
       "    <tr>\n",
       "      <td>6</td>\n",
       "      <td>2021-12-14 17:58:00</td>\n",
       "      <td>BROOKLYN</td>\n",
       "      <td>2021</td>\n",
       "      <td>4486604</td>\n",
       "      <td>True</td>\n",
       "      <td>17</td>\n",
       "      <td>Business Days</td>\n",
       "    </tr>\n",
       "    <tr>\n",
       "      <td>7</td>\n",
       "      <td>2021-12-14 20:03:00</td>\n",
       "      <td>BROOKLYN</td>\n",
       "      <td>2021</td>\n",
       "      <td>4486991</td>\n",
       "      <td>True</td>\n",
       "      <td>20</td>\n",
       "      <td>Business Days</td>\n",
       "    </tr>\n",
       "    <tr>\n",
       "      <td>12</td>\n",
       "      <td>2021-12-14 17:31:00</td>\n",
       "      <td>BROOKLYN</td>\n",
       "      <td>2021</td>\n",
       "      <td>4486516</td>\n",
       "      <td>True</td>\n",
       "      <td>17</td>\n",
       "      <td>Business Days</td>\n",
       "    </tr>\n",
       "  </tbody>\n",
       "</table>\n",
       "</div>"
      ],
      "text/plain": [
       "             Date_Time   BOROUGH  Year  COLLISION_ID  weekday  hour  \\\n",
       "0  2021-09-11 09:35:00  BROOKLYN  2021       4456314    False     9   \n",
       "2  2021-12-14 21:10:00  BROOKLYN  2021       4487074     True    21   \n",
       "6  2021-12-14 17:58:00  BROOKLYN  2021       4486604     True    17   \n",
       "7  2021-12-14 20:03:00  BROOKLYN  2021       4486991     True    20   \n",
       "12 2021-12-14 17:31:00  BROOKLYN  2021       4486516     True    17   \n",
       "\n",
       "     business_day  \n",
       "0        Weekends  \n",
       "2   Business Days  \n",
       "6   Business Days  \n",
       "7   Business Days  \n",
       "12  Business Days  "
      ]
     },
     "execution_count": 39,
     "metadata": {},
     "output_type": "execute_result"
    }
   ],
   "source": [
    "data_Brok.head()"
   ]
  },
  {
   "cell_type": "code",
   "execution_count": 45,
   "metadata": {},
   "outputs": [],
   "source": [
    "data_brok_weekday = data_Brok.loc[data_Brok.weekday == True]"
   ]
  },
  {
   "cell_type": "code",
   "execution_count": 47,
   "metadata": {},
   "outputs": [],
   "source": [
    "data_brok_weekend = data_Brok.loc[data_Brok.weekday == False]"
   ]
  },
  {
   "cell_type": "code",
   "execution_count": 48,
   "metadata": {},
   "outputs": [
    {
     "data": {
      "text/html": [
       "<div>\n",
       "<style scoped>\n",
       "    .dataframe tbody tr th:only-of-type {\n",
       "        vertical-align: middle;\n",
       "    }\n",
       "\n",
       "    .dataframe tbody tr th {\n",
       "        vertical-align: top;\n",
       "    }\n",
       "\n",
       "    .dataframe thead th {\n",
       "        text-align: right;\n",
       "    }\n",
       "</style>\n",
       "<table border=\"1\" class=\"dataframe\">\n",
       "  <thead>\n",
       "    <tr style=\"text-align: right;\">\n",
       "      <th></th>\n",
       "      <th>Date_Time</th>\n",
       "      <th>BOROUGH</th>\n",
       "      <th>Year</th>\n",
       "      <th>COLLISION_ID</th>\n",
       "      <th>weekday</th>\n",
       "      <th>hour</th>\n",
       "      <th>business_day</th>\n",
       "    </tr>\n",
       "  </thead>\n",
       "  <tbody>\n",
       "    <tr>\n",
       "      <td>0</td>\n",
       "      <td>2021-09-11 09:35:00</td>\n",
       "      <td>BROOKLYN</td>\n",
       "      <td>2021</td>\n",
       "      <td>4456314</td>\n",
       "      <td>False</td>\n",
       "      <td>9</td>\n",
       "      <td>Weekends</td>\n",
       "    </tr>\n",
       "    <tr>\n",
       "      <td>19</td>\n",
       "      <td>2022-04-24 01:30:00</td>\n",
       "      <td>BROOKLYN</td>\n",
       "      <td>2022</td>\n",
       "      <td>4522015</td>\n",
       "      <td>False</td>\n",
       "      <td>1</td>\n",
       "      <td>Weekends</td>\n",
       "    </tr>\n",
       "    <tr>\n",
       "      <td>26</td>\n",
       "      <td>2022-04-24 04:20:00</td>\n",
       "      <td>BROOKLYN</td>\n",
       "      <td>2022</td>\n",
       "      <td>4522167</td>\n",
       "      <td>False</td>\n",
       "      <td>4</td>\n",
       "      <td>Weekends</td>\n",
       "    </tr>\n",
       "    <tr>\n",
       "      <td>35</td>\n",
       "      <td>2021-12-04 12:00:00</td>\n",
       "      <td>BROOKLYN</td>\n",
       "      <td>2021</td>\n",
       "      <td>4485333</td>\n",
       "      <td>False</td>\n",
       "      <td>12</td>\n",
       "      <td>Weekends</td>\n",
       "    </tr>\n",
       "    <tr>\n",
       "      <td>40</td>\n",
       "      <td>2021-12-05 08:20:00</td>\n",
       "      <td>BROOKLYN</td>\n",
       "      <td>2021</td>\n",
       "      <td>4485408</td>\n",
       "      <td>False</td>\n",
       "      <td>8</td>\n",
       "      <td>Weekends</td>\n",
       "    </tr>\n",
       "    <tr>\n",
       "      <td>...</td>\n",
       "      <td>...</td>\n",
       "      <td>...</td>\n",
       "      <td>...</td>\n",
       "      <td>...</td>\n",
       "      <td>...</td>\n",
       "      <td>...</td>\n",
       "      <td>...</td>\n",
       "    </tr>\n",
       "    <tr>\n",
       "      <td>1224083</td>\n",
       "      <td>2022-12-31 12:39:00</td>\n",
       "      <td>BROOKLYN</td>\n",
       "      <td>2022</td>\n",
       "      <td>4606651</td>\n",
       "      <td>False</td>\n",
       "      <td>12</td>\n",
       "      <td>Weekends</td>\n",
       "    </tr>\n",
       "    <tr>\n",
       "      <td>1224094</td>\n",
       "      <td>2022-06-12 19:46:00</td>\n",
       "      <td>BROOKLYN</td>\n",
       "      <td>2022</td>\n",
       "      <td>4607317</td>\n",
       "      <td>False</td>\n",
       "      <td>19</td>\n",
       "      <td>Weekends</td>\n",
       "    </tr>\n",
       "    <tr>\n",
       "      <td>1224096</td>\n",
       "      <td>2022-03-20 01:15:00</td>\n",
       "      <td>BROOKLYN</td>\n",
       "      <td>2022</td>\n",
       "      <td>4607518</td>\n",
       "      <td>False</td>\n",
       "      <td>1</td>\n",
       "      <td>Weekends</td>\n",
       "    </tr>\n",
       "    <tr>\n",
       "      <td>1224097</td>\n",
       "      <td>2022-07-10 07:40:00</td>\n",
       "      <td>BROOKLYN</td>\n",
       "      <td>2022</td>\n",
       "      <td>4607685</td>\n",
       "      <td>False</td>\n",
       "      <td>7</td>\n",
       "      <td>Weekends</td>\n",
       "    </tr>\n",
       "    <tr>\n",
       "      <td>1224123</td>\n",
       "      <td>2022-03-19 08:30:00</td>\n",
       "      <td>BROOKLYN</td>\n",
       "      <td>2022</td>\n",
       "      <td>4613954</td>\n",
       "      <td>False</td>\n",
       "      <td>8</td>\n",
       "      <td>Weekends</td>\n",
       "    </tr>\n",
       "  </tbody>\n",
       "</table>\n",
       "<p>97316 rows × 7 columns</p>\n",
       "</div>"
      ],
      "text/plain": [
       "                  Date_Time   BOROUGH  Year  COLLISION_ID  weekday  hour  \\\n",
       "0       2021-09-11 09:35:00  BROOKLYN  2021       4456314    False     9   \n",
       "19      2022-04-24 01:30:00  BROOKLYN  2022       4522015    False     1   \n",
       "26      2022-04-24 04:20:00  BROOKLYN  2022       4522167    False     4   \n",
       "35      2021-12-04 12:00:00  BROOKLYN  2021       4485333    False    12   \n",
       "40      2021-12-05 08:20:00  BROOKLYN  2021       4485408    False     8   \n",
       "...                     ...       ...   ...           ...      ...   ...   \n",
       "1224083 2022-12-31 12:39:00  BROOKLYN  2022       4606651    False    12   \n",
       "1224094 2022-06-12 19:46:00  BROOKLYN  2022       4607317    False    19   \n",
       "1224096 2022-03-20 01:15:00  BROOKLYN  2022       4607518    False     1   \n",
       "1224097 2022-07-10 07:40:00  BROOKLYN  2022       4607685    False     7   \n",
       "1224123 2022-03-19 08:30:00  BROOKLYN  2022       4613954    False     8   \n",
       "\n",
       "        business_day  \n",
       "0           Weekends  \n",
       "19          Weekends  \n",
       "26          Weekends  \n",
       "35          Weekends  \n",
       "40          Weekends  \n",
       "...              ...  \n",
       "1224083     Weekends  \n",
       "1224094     Weekends  \n",
       "1224096     Weekends  \n",
       "1224097     Weekends  \n",
       "1224123     Weekends  \n",
       "\n",
       "[97316 rows x 7 columns]"
      ]
     },
     "execution_count": 48,
     "metadata": {},
     "output_type": "execute_result"
    }
   ],
   "source": [
    "data_brok_weekend.groupby()"
   ]
  },
  {
   "cell_type": "code",
   "execution_count": null,
   "metadata": {},
   "outputs": [],
   "source": []
  }
 ],
 "metadata": {
  "interpreter": {
   "hash": "0600588c3b5f4418cbe7b5ebc6825b479f3bc010269d8b60d75058cdd010adfe"
  },
  "kernelspec": {
   "display_name": "Python 3.7.8 64-bit",
   "language": "python",
   "name": "python3"
  },
  "language_info": {
   "codemirror_mode": {
    "name": "ipython",
    "version": 3
   },
   "file_extension": ".py",
   "mimetype": "text/x-python",
   "name": "python",
   "nbconvert_exporter": "python",
   "pygments_lexer": "ipython3",
   "version": "3.7.4"
  },
  "orig_nbformat": 4
 },
 "nbformat": 4,
 "nbformat_minor": 2
}
